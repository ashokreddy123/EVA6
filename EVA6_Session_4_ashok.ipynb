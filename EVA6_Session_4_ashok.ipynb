{
  "nbformat": 4,
  "nbformat_minor": 0,
  "metadata": {
    "accelerator": "GPU",
    "colab": {
      "name": "EVA6 - Session 4_ashok.ipynb",
      "provenance": [],
      "collapsed_sections": [],
      "include_colab_link": true
    },
    "kernelspec": {
      "display_name": "Python 3",
      "name": "python3"
    },
    "widgets": {
      "application/vnd.jupyter.widget-state+json": {
        "094d5c3f25ee4673b0b121463acd952e": {
          "model_module": "@jupyter-widgets/controls",
          "model_name": "HBoxModel",
          "state": {
            "_view_name": "HBoxView",
            "_dom_classes": [],
            "_model_name": "HBoxModel",
            "_view_module": "@jupyter-widgets/controls",
            "_model_module_version": "1.5.0",
            "_view_count": null,
            "_view_module_version": "1.5.0",
            "box_style": "",
            "layout": "IPY_MODEL_130933f0e80f4fc29a35b0367d94b0bd",
            "_model_module": "@jupyter-widgets/controls",
            "children": [
              "IPY_MODEL_6b9ae6247af540c48a8672be42dbc6c7",
              "IPY_MODEL_379abbffccf141348c2bcdd7d63e4407"
            ]
          }
        },
        "130933f0e80f4fc29a35b0367d94b0bd": {
          "model_module": "@jupyter-widgets/base",
          "model_name": "LayoutModel",
          "state": {
            "_view_name": "LayoutView",
            "grid_template_rows": null,
            "right": null,
            "justify_content": null,
            "_view_module": "@jupyter-widgets/base",
            "overflow": null,
            "_model_module_version": "1.2.0",
            "_view_count": null,
            "flex_flow": null,
            "width": null,
            "min_width": null,
            "border": null,
            "align_items": null,
            "bottom": null,
            "_model_module": "@jupyter-widgets/base",
            "top": null,
            "grid_column": null,
            "overflow_y": null,
            "overflow_x": null,
            "grid_auto_flow": null,
            "grid_area": null,
            "grid_template_columns": null,
            "flex": null,
            "_model_name": "LayoutModel",
            "justify_items": null,
            "grid_row": null,
            "max_height": null,
            "align_content": null,
            "visibility": null,
            "align_self": null,
            "height": null,
            "min_height": null,
            "padding": null,
            "grid_auto_rows": null,
            "grid_gap": null,
            "max_width": null,
            "order": null,
            "_view_module_version": "1.2.0",
            "grid_template_areas": null,
            "object_position": null,
            "object_fit": null,
            "grid_auto_columns": null,
            "margin": null,
            "display": null,
            "left": null
          }
        },
        "6b9ae6247af540c48a8672be42dbc6c7": {
          "model_module": "@jupyter-widgets/controls",
          "model_name": "FloatProgressModel",
          "state": {
            "_view_name": "ProgressView",
            "style": "IPY_MODEL_14a5840da2d440309b1f88b4e77e9719",
            "_dom_classes": [],
            "description": "",
            "_model_name": "FloatProgressModel",
            "bar_style": "success",
            "max": 9912422,
            "_view_module": "@jupyter-widgets/controls",
            "_model_module_version": "1.5.0",
            "value": 9912422,
            "_view_count": null,
            "_view_module_version": "1.5.0",
            "orientation": "horizontal",
            "min": 0,
            "description_tooltip": null,
            "_model_module": "@jupyter-widgets/controls",
            "layout": "IPY_MODEL_3b614f679e7e47088665f8e1e104a45d"
          }
        },
        "379abbffccf141348c2bcdd7d63e4407": {
          "model_module": "@jupyter-widgets/controls",
          "model_name": "HTMLModel",
          "state": {
            "_view_name": "HTMLView",
            "style": "IPY_MODEL_9d47a03935dd4e658ee7249d2b923f8a",
            "_dom_classes": [],
            "description": "",
            "_model_name": "HTMLModel",
            "placeholder": "​",
            "_view_module": "@jupyter-widgets/controls",
            "_model_module_version": "1.5.0",
            "value": " 9913344/? [00:01&lt;00:00, 5295966.17it/s]",
            "_view_count": null,
            "_view_module_version": "1.5.0",
            "description_tooltip": null,
            "_model_module": "@jupyter-widgets/controls",
            "layout": "IPY_MODEL_5039d9f4d7864b918dc0d25f2122ce29"
          }
        },
        "14a5840da2d440309b1f88b4e77e9719": {
          "model_module": "@jupyter-widgets/controls",
          "model_name": "ProgressStyleModel",
          "state": {
            "_view_name": "StyleView",
            "_model_name": "ProgressStyleModel",
            "description_width": "initial",
            "_view_module": "@jupyter-widgets/base",
            "_model_module_version": "1.5.0",
            "_view_count": null,
            "_view_module_version": "1.2.0",
            "bar_color": null,
            "_model_module": "@jupyter-widgets/controls"
          }
        },
        "3b614f679e7e47088665f8e1e104a45d": {
          "model_module": "@jupyter-widgets/base",
          "model_name": "LayoutModel",
          "state": {
            "_view_name": "LayoutView",
            "grid_template_rows": null,
            "right": null,
            "justify_content": null,
            "_view_module": "@jupyter-widgets/base",
            "overflow": null,
            "_model_module_version": "1.2.0",
            "_view_count": null,
            "flex_flow": null,
            "width": null,
            "min_width": null,
            "border": null,
            "align_items": null,
            "bottom": null,
            "_model_module": "@jupyter-widgets/base",
            "top": null,
            "grid_column": null,
            "overflow_y": null,
            "overflow_x": null,
            "grid_auto_flow": null,
            "grid_area": null,
            "grid_template_columns": null,
            "flex": null,
            "_model_name": "LayoutModel",
            "justify_items": null,
            "grid_row": null,
            "max_height": null,
            "align_content": null,
            "visibility": null,
            "align_self": null,
            "height": null,
            "min_height": null,
            "padding": null,
            "grid_auto_rows": null,
            "grid_gap": null,
            "max_width": null,
            "order": null,
            "_view_module_version": "1.2.0",
            "grid_template_areas": null,
            "object_position": null,
            "object_fit": null,
            "grid_auto_columns": null,
            "margin": null,
            "display": null,
            "left": null
          }
        },
        "9d47a03935dd4e658ee7249d2b923f8a": {
          "model_module": "@jupyter-widgets/controls",
          "model_name": "DescriptionStyleModel",
          "state": {
            "_view_name": "StyleView",
            "_model_name": "DescriptionStyleModel",
            "description_width": "",
            "_view_module": "@jupyter-widgets/base",
            "_model_module_version": "1.5.0",
            "_view_count": null,
            "_view_module_version": "1.2.0",
            "_model_module": "@jupyter-widgets/controls"
          }
        },
        "5039d9f4d7864b918dc0d25f2122ce29": {
          "model_module": "@jupyter-widgets/base",
          "model_name": "LayoutModel",
          "state": {
            "_view_name": "LayoutView",
            "grid_template_rows": null,
            "right": null,
            "justify_content": null,
            "_view_module": "@jupyter-widgets/base",
            "overflow": null,
            "_model_module_version": "1.2.0",
            "_view_count": null,
            "flex_flow": null,
            "width": null,
            "min_width": null,
            "border": null,
            "align_items": null,
            "bottom": null,
            "_model_module": "@jupyter-widgets/base",
            "top": null,
            "grid_column": null,
            "overflow_y": null,
            "overflow_x": null,
            "grid_auto_flow": null,
            "grid_area": null,
            "grid_template_columns": null,
            "flex": null,
            "_model_name": "LayoutModel",
            "justify_items": null,
            "grid_row": null,
            "max_height": null,
            "align_content": null,
            "visibility": null,
            "align_self": null,
            "height": null,
            "min_height": null,
            "padding": null,
            "grid_auto_rows": null,
            "grid_gap": null,
            "max_width": null,
            "order": null,
            "_view_module_version": "1.2.0",
            "grid_template_areas": null,
            "object_position": null,
            "object_fit": null,
            "grid_auto_columns": null,
            "margin": null,
            "display": null,
            "left": null
          }
        },
        "d135b19245ff422d8283cbf45ce8faa6": {
          "model_module": "@jupyter-widgets/controls",
          "model_name": "HBoxModel",
          "state": {
            "_view_name": "HBoxView",
            "_dom_classes": [],
            "_model_name": "HBoxModel",
            "_view_module": "@jupyter-widgets/controls",
            "_model_module_version": "1.5.0",
            "_view_count": null,
            "_view_module_version": "1.5.0",
            "box_style": "",
            "layout": "IPY_MODEL_03113808507c4bc391bfb22b97ed8888",
            "_model_module": "@jupyter-widgets/controls",
            "children": [
              "IPY_MODEL_3e034d732b3a41d7bbc22c1097faf49d",
              "IPY_MODEL_3611142874a64410925f22d665c3cdcf"
            ]
          }
        },
        "03113808507c4bc391bfb22b97ed8888": {
          "model_module": "@jupyter-widgets/base",
          "model_name": "LayoutModel",
          "state": {
            "_view_name": "LayoutView",
            "grid_template_rows": null,
            "right": null,
            "justify_content": null,
            "_view_module": "@jupyter-widgets/base",
            "overflow": null,
            "_model_module_version": "1.2.0",
            "_view_count": null,
            "flex_flow": null,
            "width": null,
            "min_width": null,
            "border": null,
            "align_items": null,
            "bottom": null,
            "_model_module": "@jupyter-widgets/base",
            "top": null,
            "grid_column": null,
            "overflow_y": null,
            "overflow_x": null,
            "grid_auto_flow": null,
            "grid_area": null,
            "grid_template_columns": null,
            "flex": null,
            "_model_name": "LayoutModel",
            "justify_items": null,
            "grid_row": null,
            "max_height": null,
            "align_content": null,
            "visibility": null,
            "align_self": null,
            "height": null,
            "min_height": null,
            "padding": null,
            "grid_auto_rows": null,
            "grid_gap": null,
            "max_width": null,
            "order": null,
            "_view_module_version": "1.2.0",
            "grid_template_areas": null,
            "object_position": null,
            "object_fit": null,
            "grid_auto_columns": null,
            "margin": null,
            "display": null,
            "left": null
          }
        },
        "3e034d732b3a41d7bbc22c1097faf49d": {
          "model_module": "@jupyter-widgets/controls",
          "model_name": "FloatProgressModel",
          "state": {
            "_view_name": "ProgressView",
            "style": "IPY_MODEL_d3c5456904c04fa682c8074317c36b0e",
            "_dom_classes": [],
            "description": "",
            "_model_name": "FloatProgressModel",
            "bar_style": "success",
            "max": 28881,
            "_view_module": "@jupyter-widgets/controls",
            "_model_module_version": "1.5.0",
            "value": 28881,
            "_view_count": null,
            "_view_module_version": "1.5.0",
            "orientation": "horizontal",
            "min": 0,
            "description_tooltip": null,
            "_model_module": "@jupyter-widgets/controls",
            "layout": "IPY_MODEL_be1dea4d22ba4eddba03c464fe2d1a24"
          }
        },
        "3611142874a64410925f22d665c3cdcf": {
          "model_module": "@jupyter-widgets/controls",
          "model_name": "HTMLModel",
          "state": {
            "_view_name": "HTMLView",
            "style": "IPY_MODEL_52245dabf9ae43e6bb0da03f7e82940f",
            "_dom_classes": [],
            "description": "",
            "_model_name": "HTMLModel",
            "placeholder": "​",
            "_view_module": "@jupyter-widgets/controls",
            "_model_module_version": "1.5.0",
            "value": " 29696/? [00:00&lt;00:00, 132412.47it/s]",
            "_view_count": null,
            "_view_module_version": "1.5.0",
            "description_tooltip": null,
            "_model_module": "@jupyter-widgets/controls",
            "layout": "IPY_MODEL_1bd31c5256974d2a96758c8e9166a97d"
          }
        },
        "d3c5456904c04fa682c8074317c36b0e": {
          "model_module": "@jupyter-widgets/controls",
          "model_name": "ProgressStyleModel",
          "state": {
            "_view_name": "StyleView",
            "_model_name": "ProgressStyleModel",
            "description_width": "initial",
            "_view_module": "@jupyter-widgets/base",
            "_model_module_version": "1.5.0",
            "_view_count": null,
            "_view_module_version": "1.2.0",
            "bar_color": null,
            "_model_module": "@jupyter-widgets/controls"
          }
        },
        "be1dea4d22ba4eddba03c464fe2d1a24": {
          "model_module": "@jupyter-widgets/base",
          "model_name": "LayoutModel",
          "state": {
            "_view_name": "LayoutView",
            "grid_template_rows": null,
            "right": null,
            "justify_content": null,
            "_view_module": "@jupyter-widgets/base",
            "overflow": null,
            "_model_module_version": "1.2.0",
            "_view_count": null,
            "flex_flow": null,
            "width": null,
            "min_width": null,
            "border": null,
            "align_items": null,
            "bottom": null,
            "_model_module": "@jupyter-widgets/base",
            "top": null,
            "grid_column": null,
            "overflow_y": null,
            "overflow_x": null,
            "grid_auto_flow": null,
            "grid_area": null,
            "grid_template_columns": null,
            "flex": null,
            "_model_name": "LayoutModel",
            "justify_items": null,
            "grid_row": null,
            "max_height": null,
            "align_content": null,
            "visibility": null,
            "align_self": null,
            "height": null,
            "min_height": null,
            "padding": null,
            "grid_auto_rows": null,
            "grid_gap": null,
            "max_width": null,
            "order": null,
            "_view_module_version": "1.2.0",
            "grid_template_areas": null,
            "object_position": null,
            "object_fit": null,
            "grid_auto_columns": null,
            "margin": null,
            "display": null,
            "left": null
          }
        },
        "52245dabf9ae43e6bb0da03f7e82940f": {
          "model_module": "@jupyter-widgets/controls",
          "model_name": "DescriptionStyleModel",
          "state": {
            "_view_name": "StyleView",
            "_model_name": "DescriptionStyleModel",
            "description_width": "",
            "_view_module": "@jupyter-widgets/base",
            "_model_module_version": "1.5.0",
            "_view_count": null,
            "_view_module_version": "1.2.0",
            "_model_module": "@jupyter-widgets/controls"
          }
        },
        "1bd31c5256974d2a96758c8e9166a97d": {
          "model_module": "@jupyter-widgets/base",
          "model_name": "LayoutModel",
          "state": {
            "_view_name": "LayoutView",
            "grid_template_rows": null,
            "right": null,
            "justify_content": null,
            "_view_module": "@jupyter-widgets/base",
            "overflow": null,
            "_model_module_version": "1.2.0",
            "_view_count": null,
            "flex_flow": null,
            "width": null,
            "min_width": null,
            "border": null,
            "align_items": null,
            "bottom": null,
            "_model_module": "@jupyter-widgets/base",
            "top": null,
            "grid_column": null,
            "overflow_y": null,
            "overflow_x": null,
            "grid_auto_flow": null,
            "grid_area": null,
            "grid_template_columns": null,
            "flex": null,
            "_model_name": "LayoutModel",
            "justify_items": null,
            "grid_row": null,
            "max_height": null,
            "align_content": null,
            "visibility": null,
            "align_self": null,
            "height": null,
            "min_height": null,
            "padding": null,
            "grid_auto_rows": null,
            "grid_gap": null,
            "max_width": null,
            "order": null,
            "_view_module_version": "1.2.0",
            "grid_template_areas": null,
            "object_position": null,
            "object_fit": null,
            "grid_auto_columns": null,
            "margin": null,
            "display": null,
            "left": null
          }
        },
        "55f38881b6e245f6b3f0f0515d1204de": {
          "model_module": "@jupyter-widgets/controls",
          "model_name": "HBoxModel",
          "state": {
            "_view_name": "HBoxView",
            "_dom_classes": [],
            "_model_name": "HBoxModel",
            "_view_module": "@jupyter-widgets/controls",
            "_model_module_version": "1.5.0",
            "_view_count": null,
            "_view_module_version": "1.5.0",
            "box_style": "",
            "layout": "IPY_MODEL_e7dbea49cbd6405ebb20a762ab42a9e4",
            "_model_module": "@jupyter-widgets/controls",
            "children": [
              "IPY_MODEL_2b81f730a7a24dd385f3c9a1093a2fa1",
              "IPY_MODEL_6fae752ab43f42cbb14b08e0c0705522"
            ]
          }
        },
        "e7dbea49cbd6405ebb20a762ab42a9e4": {
          "model_module": "@jupyter-widgets/base",
          "model_name": "LayoutModel",
          "state": {
            "_view_name": "LayoutView",
            "grid_template_rows": null,
            "right": null,
            "justify_content": null,
            "_view_module": "@jupyter-widgets/base",
            "overflow": null,
            "_model_module_version": "1.2.0",
            "_view_count": null,
            "flex_flow": null,
            "width": null,
            "min_width": null,
            "border": null,
            "align_items": null,
            "bottom": null,
            "_model_module": "@jupyter-widgets/base",
            "top": null,
            "grid_column": null,
            "overflow_y": null,
            "overflow_x": null,
            "grid_auto_flow": null,
            "grid_area": null,
            "grid_template_columns": null,
            "flex": null,
            "_model_name": "LayoutModel",
            "justify_items": null,
            "grid_row": null,
            "max_height": null,
            "align_content": null,
            "visibility": null,
            "align_self": null,
            "height": null,
            "min_height": null,
            "padding": null,
            "grid_auto_rows": null,
            "grid_gap": null,
            "max_width": null,
            "order": null,
            "_view_module_version": "1.2.0",
            "grid_template_areas": null,
            "object_position": null,
            "object_fit": null,
            "grid_auto_columns": null,
            "margin": null,
            "display": null,
            "left": null
          }
        },
        "2b81f730a7a24dd385f3c9a1093a2fa1": {
          "model_module": "@jupyter-widgets/controls",
          "model_name": "FloatProgressModel",
          "state": {
            "_view_name": "ProgressView",
            "style": "IPY_MODEL_966594f6819f45e38cfb7b53f0386566",
            "_dom_classes": [],
            "description": "",
            "_model_name": "FloatProgressModel",
            "bar_style": "success",
            "max": 1648877,
            "_view_module": "@jupyter-widgets/controls",
            "_model_module_version": "1.5.0",
            "value": 1648877,
            "_view_count": null,
            "_view_module_version": "1.5.0",
            "orientation": "horizontal",
            "min": 0,
            "description_tooltip": null,
            "_model_module": "@jupyter-widgets/controls",
            "layout": "IPY_MODEL_9f087c6929fd4c06835796ee923a3618"
          }
        },
        "6fae752ab43f42cbb14b08e0c0705522": {
          "model_module": "@jupyter-widgets/controls",
          "model_name": "HTMLModel",
          "state": {
            "_view_name": "HTMLView",
            "style": "IPY_MODEL_0e68cac9563b455f94a1c6197e20f272",
            "_dom_classes": [],
            "description": "",
            "_model_name": "HTMLModel",
            "placeholder": "​",
            "_view_module": "@jupyter-widgets/controls",
            "_model_module_version": "1.5.0",
            "value": " 1649664/? [00:01&lt;00:00, 1609213.66it/s]",
            "_view_count": null,
            "_view_module_version": "1.5.0",
            "description_tooltip": null,
            "_model_module": "@jupyter-widgets/controls",
            "layout": "IPY_MODEL_138bd49e63684abd94f84e722f7e5add"
          }
        },
        "966594f6819f45e38cfb7b53f0386566": {
          "model_module": "@jupyter-widgets/controls",
          "model_name": "ProgressStyleModel",
          "state": {
            "_view_name": "StyleView",
            "_model_name": "ProgressStyleModel",
            "description_width": "initial",
            "_view_module": "@jupyter-widgets/base",
            "_model_module_version": "1.5.0",
            "_view_count": null,
            "_view_module_version": "1.2.0",
            "bar_color": null,
            "_model_module": "@jupyter-widgets/controls"
          }
        },
        "9f087c6929fd4c06835796ee923a3618": {
          "model_module": "@jupyter-widgets/base",
          "model_name": "LayoutModel",
          "state": {
            "_view_name": "LayoutView",
            "grid_template_rows": null,
            "right": null,
            "justify_content": null,
            "_view_module": "@jupyter-widgets/base",
            "overflow": null,
            "_model_module_version": "1.2.0",
            "_view_count": null,
            "flex_flow": null,
            "width": null,
            "min_width": null,
            "border": null,
            "align_items": null,
            "bottom": null,
            "_model_module": "@jupyter-widgets/base",
            "top": null,
            "grid_column": null,
            "overflow_y": null,
            "overflow_x": null,
            "grid_auto_flow": null,
            "grid_area": null,
            "grid_template_columns": null,
            "flex": null,
            "_model_name": "LayoutModel",
            "justify_items": null,
            "grid_row": null,
            "max_height": null,
            "align_content": null,
            "visibility": null,
            "align_self": null,
            "height": null,
            "min_height": null,
            "padding": null,
            "grid_auto_rows": null,
            "grid_gap": null,
            "max_width": null,
            "order": null,
            "_view_module_version": "1.2.0",
            "grid_template_areas": null,
            "object_position": null,
            "object_fit": null,
            "grid_auto_columns": null,
            "margin": null,
            "display": null,
            "left": null
          }
        },
        "0e68cac9563b455f94a1c6197e20f272": {
          "model_module": "@jupyter-widgets/controls",
          "model_name": "DescriptionStyleModel",
          "state": {
            "_view_name": "StyleView",
            "_model_name": "DescriptionStyleModel",
            "description_width": "",
            "_view_module": "@jupyter-widgets/base",
            "_model_module_version": "1.5.0",
            "_view_count": null,
            "_view_module_version": "1.2.0",
            "_model_module": "@jupyter-widgets/controls"
          }
        },
        "138bd49e63684abd94f84e722f7e5add": {
          "model_module": "@jupyter-widgets/base",
          "model_name": "LayoutModel",
          "state": {
            "_view_name": "LayoutView",
            "grid_template_rows": null,
            "right": null,
            "justify_content": null,
            "_view_module": "@jupyter-widgets/base",
            "overflow": null,
            "_model_module_version": "1.2.0",
            "_view_count": null,
            "flex_flow": null,
            "width": null,
            "min_width": null,
            "border": null,
            "align_items": null,
            "bottom": null,
            "_model_module": "@jupyter-widgets/base",
            "top": null,
            "grid_column": null,
            "overflow_y": null,
            "overflow_x": null,
            "grid_auto_flow": null,
            "grid_area": null,
            "grid_template_columns": null,
            "flex": null,
            "_model_name": "LayoutModel",
            "justify_items": null,
            "grid_row": null,
            "max_height": null,
            "align_content": null,
            "visibility": null,
            "align_self": null,
            "height": null,
            "min_height": null,
            "padding": null,
            "grid_auto_rows": null,
            "grid_gap": null,
            "max_width": null,
            "order": null,
            "_view_module_version": "1.2.0",
            "grid_template_areas": null,
            "object_position": null,
            "object_fit": null,
            "grid_auto_columns": null,
            "margin": null,
            "display": null,
            "left": null
          }
        },
        "6fca5d57b8ac4261ab9c4f1fd5455482": {
          "model_module": "@jupyter-widgets/controls",
          "model_name": "HBoxModel",
          "state": {
            "_view_name": "HBoxView",
            "_dom_classes": [],
            "_model_name": "HBoxModel",
            "_view_module": "@jupyter-widgets/controls",
            "_model_module_version": "1.5.0",
            "_view_count": null,
            "_view_module_version": "1.5.0",
            "box_style": "",
            "layout": "IPY_MODEL_a5b96e8d4328414ebc2c98d69120f823",
            "_model_module": "@jupyter-widgets/controls",
            "children": [
              "IPY_MODEL_5cf0f03b84e74df3ad45c949146373a9",
              "IPY_MODEL_09e131d2435c4545945ad9e7c9cdd8be"
            ]
          }
        },
        "a5b96e8d4328414ebc2c98d69120f823": {
          "model_module": "@jupyter-widgets/base",
          "model_name": "LayoutModel",
          "state": {
            "_view_name": "LayoutView",
            "grid_template_rows": null,
            "right": null,
            "justify_content": null,
            "_view_module": "@jupyter-widgets/base",
            "overflow": null,
            "_model_module_version": "1.2.0",
            "_view_count": null,
            "flex_flow": null,
            "width": null,
            "min_width": null,
            "border": null,
            "align_items": null,
            "bottom": null,
            "_model_module": "@jupyter-widgets/base",
            "top": null,
            "grid_column": null,
            "overflow_y": null,
            "overflow_x": null,
            "grid_auto_flow": null,
            "grid_area": null,
            "grid_template_columns": null,
            "flex": null,
            "_model_name": "LayoutModel",
            "justify_items": null,
            "grid_row": null,
            "max_height": null,
            "align_content": null,
            "visibility": null,
            "align_self": null,
            "height": null,
            "min_height": null,
            "padding": null,
            "grid_auto_rows": null,
            "grid_gap": null,
            "max_width": null,
            "order": null,
            "_view_module_version": "1.2.0",
            "grid_template_areas": null,
            "object_position": null,
            "object_fit": null,
            "grid_auto_columns": null,
            "margin": null,
            "display": null,
            "left": null
          }
        },
        "5cf0f03b84e74df3ad45c949146373a9": {
          "model_module": "@jupyter-widgets/controls",
          "model_name": "FloatProgressModel",
          "state": {
            "_view_name": "ProgressView",
            "style": "IPY_MODEL_192123666d444575bd6f3b5e4975870b",
            "_dom_classes": [],
            "description": "",
            "_model_name": "FloatProgressModel",
            "bar_style": "success",
            "max": 4542,
            "_view_module": "@jupyter-widgets/controls",
            "_model_module_version": "1.5.0",
            "value": 4542,
            "_view_count": null,
            "_view_module_version": "1.5.0",
            "orientation": "horizontal",
            "min": 0,
            "description_tooltip": null,
            "_model_module": "@jupyter-widgets/controls",
            "layout": "IPY_MODEL_3cc6b344ecff4975b903fa7e13f9e4da"
          }
        },
        "09e131d2435c4545945ad9e7c9cdd8be": {
          "model_module": "@jupyter-widgets/controls",
          "model_name": "HTMLModel",
          "state": {
            "_view_name": "HTMLView",
            "style": "IPY_MODEL_43c2d73bcd31485090abd9b6f269426d",
            "_dom_classes": [],
            "description": "",
            "_model_name": "HTMLModel",
            "placeholder": "​",
            "_view_module": "@jupyter-widgets/controls",
            "_model_module_version": "1.5.0",
            "value": " 5120/? [00:00&lt;00:00, 13457.29it/s]",
            "_view_count": null,
            "_view_module_version": "1.5.0",
            "description_tooltip": null,
            "_model_module": "@jupyter-widgets/controls",
            "layout": "IPY_MODEL_94cb977bfc944d6f885b8b80168d0f91"
          }
        },
        "192123666d444575bd6f3b5e4975870b": {
          "model_module": "@jupyter-widgets/controls",
          "model_name": "ProgressStyleModel",
          "state": {
            "_view_name": "StyleView",
            "_model_name": "ProgressStyleModel",
            "description_width": "initial",
            "_view_module": "@jupyter-widgets/base",
            "_model_module_version": "1.5.0",
            "_view_count": null,
            "_view_module_version": "1.2.0",
            "bar_color": null,
            "_model_module": "@jupyter-widgets/controls"
          }
        },
        "3cc6b344ecff4975b903fa7e13f9e4da": {
          "model_module": "@jupyter-widgets/base",
          "model_name": "LayoutModel",
          "state": {
            "_view_name": "LayoutView",
            "grid_template_rows": null,
            "right": null,
            "justify_content": null,
            "_view_module": "@jupyter-widgets/base",
            "overflow": null,
            "_model_module_version": "1.2.0",
            "_view_count": null,
            "flex_flow": null,
            "width": null,
            "min_width": null,
            "border": null,
            "align_items": null,
            "bottom": null,
            "_model_module": "@jupyter-widgets/base",
            "top": null,
            "grid_column": null,
            "overflow_y": null,
            "overflow_x": null,
            "grid_auto_flow": null,
            "grid_area": null,
            "grid_template_columns": null,
            "flex": null,
            "_model_name": "LayoutModel",
            "justify_items": null,
            "grid_row": null,
            "max_height": null,
            "align_content": null,
            "visibility": null,
            "align_self": null,
            "height": null,
            "min_height": null,
            "padding": null,
            "grid_auto_rows": null,
            "grid_gap": null,
            "max_width": null,
            "order": null,
            "_view_module_version": "1.2.0",
            "grid_template_areas": null,
            "object_position": null,
            "object_fit": null,
            "grid_auto_columns": null,
            "margin": null,
            "display": null,
            "left": null
          }
        },
        "43c2d73bcd31485090abd9b6f269426d": {
          "model_module": "@jupyter-widgets/controls",
          "model_name": "DescriptionStyleModel",
          "state": {
            "_view_name": "StyleView",
            "_model_name": "DescriptionStyleModel",
            "description_width": "",
            "_view_module": "@jupyter-widgets/base",
            "_model_module_version": "1.5.0",
            "_view_count": null,
            "_view_module_version": "1.2.0",
            "_model_module": "@jupyter-widgets/controls"
          }
        },
        "94cb977bfc944d6f885b8b80168d0f91": {
          "model_module": "@jupyter-widgets/base",
          "model_name": "LayoutModel",
          "state": {
            "_view_name": "LayoutView",
            "grid_template_rows": null,
            "right": null,
            "justify_content": null,
            "_view_module": "@jupyter-widgets/base",
            "overflow": null,
            "_model_module_version": "1.2.0",
            "_view_count": null,
            "flex_flow": null,
            "width": null,
            "min_width": null,
            "border": null,
            "align_items": null,
            "bottom": null,
            "_model_module": "@jupyter-widgets/base",
            "top": null,
            "grid_column": null,
            "overflow_y": null,
            "overflow_x": null,
            "grid_auto_flow": null,
            "grid_area": null,
            "grid_template_columns": null,
            "flex": null,
            "_model_name": "LayoutModel",
            "justify_items": null,
            "grid_row": null,
            "max_height": null,
            "align_content": null,
            "visibility": null,
            "align_self": null,
            "height": null,
            "min_height": null,
            "padding": null,
            "grid_auto_rows": null,
            "grid_gap": null,
            "max_width": null,
            "order": null,
            "_view_module_version": "1.2.0",
            "grid_template_areas": null,
            "object_position": null,
            "object_fit": null,
            "grid_auto_columns": null,
            "margin": null,
            "display": null,
            "left": null
          }
        }
      }
    }
  },
  "cells": [
    {
      "cell_type": "markdown",
      "metadata": {
        "id": "view-in-github",
        "colab_type": "text"
      },
      "source": [
        "<a href=\"https://colab.research.google.com/github/ashokreddy123/EVA6/blob/main/EVA6_Session_4_ashok.ipynb\" target=\"_parent\"><img src=\"https://colab.research.google.com/assets/colab-badge.svg\" alt=\"Open In Colab\"/></a>"
      ]
    },
    {
      "cell_type": "code",
      "metadata": {
        "id": "0m2JWFliFfKT"
      },
      "source": [
        "from __future__ import print_function\n",
        "import torch\n",
        "import torch.nn as nn\n",
        "import torch.nn.functional as F\n",
        "import torch.optim as optim\n",
        "from torchvision import datasets, transforms"
      ],
      "execution_count": 1,
      "outputs": []
    },
    {
      "cell_type": "code",
      "metadata": {
        "id": "K_n7bK3gmg0S"
      },
      "source": [
        "# The network Architecture\n",
        "drop_out = 0.0\n",
        "class Net(nn.Module):\n",
        "    def __init__(self):\n",
        "        super(Net, self).__init__()\n",
        "        self.conv1 = nn.Conv2d(1, 8, 3, padding=1) #input - 1x28x28 OUtput - 8x28x28 RF - 3x3\n",
        "        self.norm1 = nn.BatchNorm2d(8)\n",
        "        \n",
        "        self.conv2 = nn.Conv2d(8, 8, 3, padding=1) #input - 8x28x28 OUtput - 8x28x28 RF - 5x5\n",
        "        self.norm2 = nn.BatchNorm2d(8)\n",
        "       \n",
        "        self.conv3 = nn.Conv2d(8, 8, 3, padding=1) #input - 8x28x28 OUtput - 8x28x28 RF - 7x7\n",
        "        self.norm3 = nn.BatchNorm2d(8)\n",
        "\n",
        "        self.conv3_2 = nn.Conv2d(8, 8, 3, padding=1) #input - 8x28x28 OUtput - 8x28x28 RF - 9x9\n",
        "        self.norm3_2 = nn.BatchNorm2d(8)\n",
        "        \n",
        "        self.pool1 = nn.MaxPool2d(2, 2) #input - 8x28x28 OUtput - 8x14x14 \n",
        "        self.drop1 = nn.Dropout(drop_out)\n",
        "        \n",
        "        self.conv4 = nn.Conv2d(8, 8, 3, padding=1) #input - 8x14x14 OUtput - 8x14x14  \n",
        "        self.norm4 = nn.BatchNorm2d(8)\n",
        "        self.conv5 = nn.Conv2d(8, 8, 3, padding=1) #input - 8x14x14 OUtput - 8x14x14 \n",
        "        self.norm5 = nn.BatchNorm2d(8)\n",
        "        self.conv6 = nn.Conv2d(8, 8, 3, padding=1) #input - 8x14x14 OUtput - 8x14x14 \n",
        "        self.norm6 = nn.BatchNorm2d(8)\n",
        "        self.conv6_2 = nn.Conv2d(8, 8, 3, padding=1) #input - 8x14x14 OUtput - 8x14x14 \n",
        "        self.norm6_2 = nn.BatchNorm2d(8)\n",
        "\n",
        "        self.pool2 = nn.MaxPool2d(2, 2) #input - 8x14x14 OUtput - 8x7x7\n",
        "        self.drop2 = nn.Dropout(drop_out)\n",
        "        \n",
        "        self.conv7 = nn.Conv2d(8,16, 3, padding=1) #input - 8x7x7 OUtput - 16x7x7\n",
        "        self.norm7 = nn.BatchNorm2d(16)\n",
        "        self.conv8 = nn.Conv2d(16,16, 3, padding=1) #input - 16x7x7 OUtput - 16x7x7\n",
        "        self.norm8 = nn.BatchNorm2d(16)\n",
        "        self.conv9 = nn.Conv2d(16,16, 3, padding=1) #input - 16x7x7 OUtput - 16x7x7 \n",
        "        self.norm9 = nn.BatchNorm2d(16)\n",
        "        self.conv9_2 = nn.Conv2d(16,16, 3, padding=1) #input - 16x7x7 OUtput - 16x7x7\n",
        "        self.norm9_2 = nn.BatchNorm2d(16)\n",
        "\n",
        "        self.pool3 = nn.MaxPool2d(2, 2) #input - 16x7x7 OUtput - 16x3x3\n",
        "        self.drop3 = nn.Dropout(drop_out)\n",
        "        \n",
        "        self.gap = nn.AdaptiveAvgPool2d((1,1)) #input - 16x3x3 OUtput - 16x1x1\n",
        "        \n",
        "\n",
        "        self.fc1 = nn.Linear(16, 100) #input - 16 OUtput - 100\n",
        "        self.fc2 = nn.Linear(100, 10) #input - 100 OUtput - 10\n",
        "\n",
        "    def forward(self, x):\n",
        "        #print(\"intial\",x.shape)\n",
        "        #print(\"initial : \",x.shape)\n",
        "        x = F.relu(self.conv1(x))\n",
        "        x = self.norm1(x)\n",
        "  \n",
        "        x = F.relu(self.conv2(x))\n",
        "        x = self.norm2(x)\n",
        "        \n",
        "        x = F.relu(self.conv3(x))\n",
        "        x = self.norm3(x)\n",
        "\n",
        "        x = F.relu(self.conv3_2(x))\n",
        "        x = self.norm3_2(x)\n",
        "        \n",
        "        \n",
        "        \n",
        "        x = self.pool1(x)\n",
        "        x = self.drop1(x)\n",
        "        #print(\"layer1 : \",x.shape)\n",
        "        x = F.relu(self.conv4(x))\n",
        "        x = self.norm4(x)\n",
        "  \n",
        "        x = F.relu(self.conv5(x))\n",
        "        x = self.norm5(x)\n",
        "        \n",
        "        x = F.relu(self.conv6(x))\n",
        "        x = self.norm6(x)\n",
        "        x = F.relu(self.conv6_2(x))\n",
        "        x = self.norm6_2(x)\n",
        "\n",
        "        x = self.pool2(x)\n",
        "        x = self.drop2(x)\n",
        "        #print(\"layer2 : \",x.shape)\n",
        "        x = F.relu(self.conv7(x))\n",
        "        x = self.norm7(x)\n",
        "        x = F.relu(self.conv8(x))\n",
        "        x = self.norm8(x)\n",
        "        x = F.relu(self.conv9(x))\n",
        "        x = self.norm9(x)\n",
        "        x = F.relu(self.conv9_2(x))\n",
        "        x = self.norm9_2(x)\n",
        "        x = self.pool3(x)\n",
        "        x = self.drop3(x)\n",
        "        #print(\"layer3 : \",x.shape)\n",
        "        \"\"\"\n",
        "        x = F.relu(self.conv10(x))\n",
        "        x = self.norm10(x)\n",
        "        x = F.relu(self.conv11(x))\n",
        "        x = self.norm11(x)\n",
        "        x = F.relu(self.conv12(x))\n",
        "        x = self.norm12(x)\n",
        "        x = F.relu(self.conv12_2(x))\n",
        "        x = self.norm12_2(x)\n",
        "        x = self.pool4(x)\n",
        "        x = self.drop4(x)\n",
        "        \"\"\"\n",
        "        x = self.gap(x)\n",
        "        #print(\"After gap\",x.shape)\n",
        "        #x = self.flat1(x)\n",
        "        #x = torch.flatten(x,0,-1)\n",
        "        #print(\"1\",x.shape)\n",
        "        x = x.reshape(-1, 16)\n",
        "        #print(x.shape)\n",
        "        #print(\"After flateen\",x.shape)\n",
        "        x = self.fc1(x)\n",
        "        x = F.relu(x)\n",
        "        x = self.fc2(x)\n",
        "        #x = F.relu(x)\n",
        "\n",
        "        x = x.view(-1, 10)\n",
        "        return F.log_softmax(x)\n",
        "        #return F.softmax(x)\n",
        "\n"
      ],
      "execution_count": 2,
      "outputs": []
    },
    {
      "cell_type": "code",
      "metadata": {
        "colab": {
          "base_uri": "https://localhost:8080/"
        },
        "id": "xdydjYTZFyi3",
        "outputId": "aa1241af-b4d8-4cba-d4cf-ecab35cc7dcd"
      },
      "source": [
        "!pip install torchsummary\n",
        "from torchsummary import summary\n",
        "use_cuda = torch.cuda.is_available()\n",
        "device = torch.device(\"cuda\" if use_cuda else \"cpu\")\n",
        "model = Net().to(device)\n",
        "summary(model, input_size=(1, 28, 28))"
      ],
      "execution_count": 3,
      "outputs": [
        {
          "output_type": "stream",
          "text": [
            "Requirement already satisfied: torchsummary in /usr/local/lib/python3.7/dist-packages (1.5.1)\n",
            "----------------------------------------------------------------\n",
            "        Layer (type)               Output Shape         Param #\n",
            "================================================================\n",
            "            Conv2d-1            [-1, 8, 28, 28]              80\n",
            "       BatchNorm2d-2            [-1, 8, 28, 28]              16\n",
            "            Conv2d-3            [-1, 8, 28, 28]             584\n",
            "       BatchNorm2d-4            [-1, 8, 28, 28]              16\n",
            "            Conv2d-5            [-1, 8, 28, 28]             584\n",
            "       BatchNorm2d-6            [-1, 8, 28, 28]              16\n",
            "            Conv2d-7            [-1, 8, 28, 28]             584\n",
            "       BatchNorm2d-8            [-1, 8, 28, 28]              16\n",
            "         MaxPool2d-9            [-1, 8, 14, 14]               0\n",
            "          Dropout-10            [-1, 8, 14, 14]               0\n",
            "           Conv2d-11            [-1, 8, 14, 14]             584\n",
            "      BatchNorm2d-12            [-1, 8, 14, 14]              16\n",
            "           Conv2d-13            [-1, 8, 14, 14]             584\n",
            "      BatchNorm2d-14            [-1, 8, 14, 14]              16\n",
            "           Conv2d-15            [-1, 8, 14, 14]             584\n",
            "      BatchNorm2d-16            [-1, 8, 14, 14]              16\n",
            "           Conv2d-17            [-1, 8, 14, 14]             584\n",
            "      BatchNorm2d-18            [-1, 8, 14, 14]              16\n",
            "        MaxPool2d-19              [-1, 8, 7, 7]               0\n",
            "          Dropout-20              [-1, 8, 7, 7]               0\n",
            "           Conv2d-21             [-1, 16, 7, 7]           1,168\n",
            "      BatchNorm2d-22             [-1, 16, 7, 7]              32\n",
            "           Conv2d-23             [-1, 16, 7, 7]           2,320\n",
            "      BatchNorm2d-24             [-1, 16, 7, 7]              32\n",
            "           Conv2d-25             [-1, 16, 7, 7]           2,320\n",
            "      BatchNorm2d-26             [-1, 16, 7, 7]              32\n",
            "           Conv2d-27             [-1, 16, 7, 7]           2,320\n",
            "      BatchNorm2d-28             [-1, 16, 7, 7]              32\n",
            "        MaxPool2d-29             [-1, 16, 3, 3]               0\n",
            "          Dropout-30             [-1, 16, 3, 3]               0\n",
            "AdaptiveAvgPool2d-31             [-1, 16, 1, 1]               0\n",
            "           Linear-32                  [-1, 100]           1,700\n",
            "           Linear-33                   [-1, 10]           1,010\n",
            "================================================================\n",
            "Total params: 15,262\n",
            "Trainable params: 15,262\n",
            "Non-trainable params: 0\n",
            "----------------------------------------------------------------\n",
            "Input size (MB): 0.00\n",
            "Forward/backward pass size (MB): 0.56\n",
            "Params size (MB): 0.06\n",
            "Estimated Total Size (MB): 0.62\n",
            "----------------------------------------------------------------\n"
          ],
          "name": "stdout"
        },
        {
          "output_type": "stream",
          "text": [
            "/usr/local/lib/python3.7/dist-packages/ipykernel_launcher.py:122: UserWarning: Implicit dimension choice for log_softmax has been deprecated. Change the call to include dim=X as an argument.\n"
          ],
          "name": "stderr"
        }
      ]
    },
    {
      "cell_type": "code",
      "metadata": {
        "id": "DqTWLaM5GHgH",
        "colab": {
          "base_uri": "https://localhost:8080/",
          "height": 863,
          "referenced_widgets": [
            "094d5c3f25ee4673b0b121463acd952e",
            "130933f0e80f4fc29a35b0367d94b0bd",
            "6b9ae6247af540c48a8672be42dbc6c7",
            "379abbffccf141348c2bcdd7d63e4407",
            "14a5840da2d440309b1f88b4e77e9719",
            "3b614f679e7e47088665f8e1e104a45d",
            "9d47a03935dd4e658ee7249d2b923f8a",
            "5039d9f4d7864b918dc0d25f2122ce29",
            "d135b19245ff422d8283cbf45ce8faa6",
            "03113808507c4bc391bfb22b97ed8888",
            "3e034d732b3a41d7bbc22c1097faf49d",
            "3611142874a64410925f22d665c3cdcf",
            "d3c5456904c04fa682c8074317c36b0e",
            "be1dea4d22ba4eddba03c464fe2d1a24",
            "52245dabf9ae43e6bb0da03f7e82940f",
            "1bd31c5256974d2a96758c8e9166a97d",
            "55f38881b6e245f6b3f0f0515d1204de",
            "e7dbea49cbd6405ebb20a762ab42a9e4",
            "2b81f730a7a24dd385f3c9a1093a2fa1",
            "6fae752ab43f42cbb14b08e0c0705522",
            "966594f6819f45e38cfb7b53f0386566",
            "9f087c6929fd4c06835796ee923a3618",
            "0e68cac9563b455f94a1c6197e20f272",
            "138bd49e63684abd94f84e722f7e5add",
            "6fca5d57b8ac4261ab9c4f1fd5455482",
            "a5b96e8d4328414ebc2c98d69120f823",
            "5cf0f03b84e74df3ad45c949146373a9",
            "09e131d2435c4545945ad9e7c9cdd8be",
            "192123666d444575bd6f3b5e4975870b",
            "3cc6b344ecff4975b903fa7e13f9e4da",
            "43c2d73bcd31485090abd9b6f269426d",
            "94cb977bfc944d6f885b8b80168d0f91"
          ]
        },
        "outputId": "12a6bceb-ac7c-49e7-c526-e87d718b2b69"
      },
      "source": [
        "\n",
        "# Getting train and test datasets from MNIST\n",
        "torch.manual_seed(1)\n",
        "batch_size = 128\n",
        "\n",
        "kwargs = {'num_workers': 1, 'pin_memory': True} if use_cuda else {}\n",
        "train_loader = torch.utils.data.DataLoader(\n",
        "    datasets.MNIST('../data', train=True, download=True,\n",
        "                    transform=transforms.Compose([\n",
        "                        transforms.ToTensor(),\n",
        "                        transforms.Normalize((0.1307,), (0.3081,))\n",
        "                    ])),\n",
        "    batch_size=batch_size, shuffle=True, **kwargs)\n",
        "test_loader = torch.utils.data.DataLoader(\n",
        "    datasets.MNIST('../data', train=False, transform=transforms.Compose([\n",
        "                        transforms.ToTensor(),\n",
        "                        transforms.Normalize((0.1307,), (0.3081,))\n",
        "                    ])),\n",
        "    batch_size=batch_size, shuffle=True, **kwargs)\n"
      ],
      "execution_count": 4,
      "outputs": [
        {
          "output_type": "stream",
          "text": [
            "Downloading http://yann.lecun.com/exdb/mnist/train-images-idx3-ubyte.gz\n",
            "Downloading http://yann.lecun.com/exdb/mnist/train-images-idx3-ubyte.gz to ../data/MNIST/raw/train-images-idx3-ubyte.gz\n",
            "Failed to download (trying next):\n",
            "HTTP Error 503: Service Unavailable\n",
            "\n",
            "Downloading https://ossci-datasets.s3.amazonaws.com/mnist/train-images-idx3-ubyte.gz\n",
            "Downloading https://ossci-datasets.s3.amazonaws.com/mnist/train-images-idx3-ubyte.gz to ../data/MNIST/raw/train-images-idx3-ubyte.gz\n"
          ],
          "name": "stdout"
        },
        {
          "output_type": "display_data",
          "data": {
            "application/vnd.jupyter.widget-view+json": {
              "model_id": "094d5c3f25ee4673b0b121463acd952e",
              "version_minor": 0,
              "version_major": 2
            },
            "text/plain": [
              "HBox(children=(FloatProgress(value=0.0, max=9912422.0), HTML(value='')))"
            ]
          },
          "metadata": {
            "tags": []
          }
        },
        {
          "output_type": "stream",
          "text": [
            "\n",
            "Extracting ../data/MNIST/raw/train-images-idx3-ubyte.gz to ../data/MNIST/raw\n",
            "\n",
            "Downloading http://yann.lecun.com/exdb/mnist/train-labels-idx1-ubyte.gz\n",
            "Failed to download (trying next):\n",
            "HTTP Error 503: Service Unavailable\n",
            "\n",
            "Downloading https://ossci-datasets.s3.amazonaws.com/mnist/train-labels-idx1-ubyte.gz\n",
            "Downloading https://ossci-datasets.s3.amazonaws.com/mnist/train-labels-idx1-ubyte.gz to ../data/MNIST/raw/train-labels-idx1-ubyte.gz\n"
          ],
          "name": "stdout"
        },
        {
          "output_type": "display_data",
          "data": {
            "application/vnd.jupyter.widget-view+json": {
              "model_id": "d135b19245ff422d8283cbf45ce8faa6",
              "version_minor": 0,
              "version_major": 2
            },
            "text/plain": [
              "HBox(children=(FloatProgress(value=0.0, max=28881.0), HTML(value='')))"
            ]
          },
          "metadata": {
            "tags": []
          }
        },
        {
          "output_type": "stream",
          "text": [
            "\n",
            "Extracting ../data/MNIST/raw/train-labels-idx1-ubyte.gz to ../data/MNIST/raw\n",
            "\n",
            "Downloading http://yann.lecun.com/exdb/mnist/t10k-images-idx3-ubyte.gz\n",
            "Downloading http://yann.lecun.com/exdb/mnist/t10k-images-idx3-ubyte.gz to ../data/MNIST/raw/t10k-images-idx3-ubyte.gz\n",
            "Failed to download (trying next):\n",
            "HTTP Error 503: Service Unavailable\n",
            "\n",
            "Downloading https://ossci-datasets.s3.amazonaws.com/mnist/t10k-images-idx3-ubyte.gz\n",
            "Downloading https://ossci-datasets.s3.amazonaws.com/mnist/t10k-images-idx3-ubyte.gz to ../data/MNIST/raw/t10k-images-idx3-ubyte.gz\n"
          ],
          "name": "stdout"
        },
        {
          "output_type": "display_data",
          "data": {
            "application/vnd.jupyter.widget-view+json": {
              "model_id": "55f38881b6e245f6b3f0f0515d1204de",
              "version_minor": 0,
              "version_major": 2
            },
            "text/plain": [
              "HBox(children=(FloatProgress(value=0.0, max=1648877.0), HTML(value='')))"
            ]
          },
          "metadata": {
            "tags": []
          }
        },
        {
          "output_type": "stream",
          "text": [
            "\n",
            "Extracting ../data/MNIST/raw/t10k-images-idx3-ubyte.gz to ../data/MNIST/raw\n",
            "\n",
            "Downloading http://yann.lecun.com/exdb/mnist/t10k-labels-idx1-ubyte.gz\n",
            "Downloading http://yann.lecun.com/exdb/mnist/t10k-labels-idx1-ubyte.gz to ../data/MNIST/raw/t10k-labels-idx1-ubyte.gz\n"
          ],
          "name": "stdout"
        },
        {
          "output_type": "display_data",
          "data": {
            "application/vnd.jupyter.widget-view+json": {
              "model_id": "6fca5d57b8ac4261ab9c4f1fd5455482",
              "version_minor": 0,
              "version_major": 2
            },
            "text/plain": [
              "HBox(children=(FloatProgress(value=0.0, max=4542.0), HTML(value='')))"
            ]
          },
          "metadata": {
            "tags": []
          }
        },
        {
          "output_type": "stream",
          "text": [
            "\n",
            "Extracting ../data/MNIST/raw/t10k-labels-idx1-ubyte.gz to ../data/MNIST/raw\n",
            "\n",
            "Processing...\n",
            "Done!\n"
          ],
          "name": "stdout"
        },
        {
          "output_type": "stream",
          "text": [
            "/usr/local/lib/python3.7/dist-packages/torchvision/datasets/mnist.py:502: UserWarning: The given NumPy array is not writeable, and PyTorch does not support non-writeable tensors. This means you can write to the underlying (supposedly non-writeable) NumPy array using the tensor. You may want to copy the array to protect its data or make it writeable before converting it to a tensor. This type of warning will be suppressed for the rest of this program. (Triggered internally at  /pytorch/torch/csrc/utils/tensor_numpy.cpp:143.)\n",
            "  return torch.from_numpy(parsed.astype(m[2], copy=False)).view(*s)\n"
          ],
          "name": "stderr"
        }
      ]
    },
    {
      "cell_type": "code",
      "metadata": {
        "id": "8fDefDhaFlwH"
      },
      "source": [
        "from tqdm import tqdm\n",
        "def train(model, device, train_loader, optimizer, epoch, train_accuracy, training_loss_epochs):\n",
        "    model.train()\n",
        "    pbar = tqdm(train_loader)\n",
        "    correct = 0\n",
        "    training_loss = 0\n",
        "    for batch_idx, (data, target) in enumerate(pbar):\n",
        "        data, target = data.to(device), target.to(device)\n",
        "        optimizer.zero_grad()\n",
        "        output = model(data)\n",
        "        training_loss += F.nll_loss(output, target, reduction='sum').item()  # sum up batch loss\n",
        "        loss = F.nll_loss(output, target)\n",
        "        loss.backward()\n",
        "        optimizer.step()\n",
        "        pred = output.argmax(dim=1, keepdim=True)  # get the index of the max log-probability\n",
        "        correct += pred.eq(target.view_as(pred)).sum().item()\n",
        "        #pbar.set_description(desc= f'loss={loss.item()} batch_id={batch_idx}')\n",
        "    training_loss /= len(train_loader.dataset)\n",
        "    accuracy = correct*100 /len(train_loader.dataset)\n",
        "    #print(\"train_accuracy = \",train_accuracy)\n",
        "    train_accuracy.append(accuracy)\n",
        "    training_loss_epochs.append(training_loss)\n",
        "    return train_accuracy\n",
        "\n",
        "def test(model, device, test_loader, test_accuracy, test_loss_epochs):\n",
        "    model.eval()\n",
        "    test_loss = 0\n",
        "    correct = 0\n",
        "    #test_accuracy = []\n",
        "    with torch.no_grad():\n",
        "        for data, target in test_loader:\n",
        "            data, target = data.to(device), target.to(device)\n",
        "            output = model(data)\n",
        "            test_loss += F.nll_loss(output, target, reduction='sum').item()  # sum up batch loss\n",
        "            pred = output.argmax(dim=1, keepdim=True)  # get the index of the max log-probability\n",
        "            correct += pred.eq(target.view_as(pred)).sum().item()\n",
        "\n",
        "    test_loss /= len(test_loader.dataset)\n",
        "    accuracy = correct*100 /len(test_loader.dataset)\n",
        "    test_accuracy.append(accuracy)\n",
        "    test_loss_epochs.append(test_loss)\n",
        "    return test_accuracy\n",
        "\n",
        "    \"\"\"\n",
        "    print('\\nTest set: Average loss: {:.4f}, Accuracy: {}/{} ({:.1f}%)\\n'.format(\n",
        "        test_loss, correct, len(test_loader.dataset),\n",
        "        100. * correct / len(test_loader.dataset)))\n",
        "    \"\"\""
      ],
      "execution_count": 5,
      "outputs": []
    },
    {
      "cell_type": "code",
      "metadata": {
        "colab": {
          "base_uri": "https://localhost:8080/"
        },
        "id": "MMWbLWO6FuHb",
        "outputId": "b4a519a2-ac30-4c88-f5ae-2fb0b92b82be"
      },
      "source": [
        "\n",
        "model = Net().to(device)\n",
        "optimizer = optim.SGD(model.parameters(), lr=0.3, momentum=0.9)\n",
        "train_accuracy = []\n",
        "test_accuracy = []\n",
        "training_loss_epochs = []\n",
        "test_loss_epochs = []\n",
        "for epoch in range(1,20):\n",
        "    print(\"\\nepoch no : \",epoch)\n",
        "    train_accuracy = train(model, device, train_loader, optimizer, epoch,train_accuracy,training_loss_epochs)\n",
        "    test_accuracy = test(model, device, test_loader,test_accuracy, test_loss_epochs)\n",
        "    print(\"\\ntrain accuracy : \", train_accuracy[epoch-1], \"test accuracy : \", test_accuracy[epoch-1])\n"
      ],
      "execution_count": 9,
      "outputs": [
        {
          "output_type": "stream",
          "text": [
            "\r  0%|          | 0/469 [00:00<?, ?it/s]"
          ],
          "name": "stderr"
        },
        {
          "output_type": "stream",
          "text": [
            "\n",
            "epoch no :  1\n"
          ],
          "name": "stdout"
        },
        {
          "output_type": "stream",
          "text": [
            "/usr/local/lib/python3.7/dist-packages/ipykernel_launcher.py:122: UserWarning: Implicit dimension choice for log_softmax has been deprecated. Change the call to include dim=X as an argument.\n",
            "100%|██████████| 469/469 [00:11<00:00, 41.67it/s]\n",
            "  0%|          | 0/469 [00:00<?, ?it/s]"
          ],
          "name": "stderr"
        },
        {
          "output_type": "stream",
          "text": [
            "\n",
            "train accuracy :  91.48333333333333 test accuracy :  96.73\n",
            "\n",
            "epoch no :  2\n"
          ],
          "name": "stdout"
        },
        {
          "output_type": "stream",
          "text": [
            "100%|██████████| 469/469 [00:11<00:00, 42.09it/s]\n",
            "  0%|          | 0/469 [00:00<?, ?it/s]"
          ],
          "name": "stderr"
        },
        {
          "output_type": "stream",
          "text": [
            "\n",
            "train accuracy :  97.88833333333334 test accuracy :  98.9\n",
            "\n",
            "epoch no :  3\n"
          ],
          "name": "stdout"
        },
        {
          "output_type": "stream",
          "text": [
            "100%|██████████| 469/469 [00:11<00:00, 42.42it/s]\n",
            "  0%|          | 0/469 [00:00<?, ?it/s]"
          ],
          "name": "stderr"
        },
        {
          "output_type": "stream",
          "text": [
            "\n",
            "train accuracy :  98.3 test accuracy :  98.0\n",
            "\n",
            "epoch no :  4\n"
          ],
          "name": "stdout"
        },
        {
          "output_type": "stream",
          "text": [
            "100%|██████████| 469/469 [00:11<00:00, 40.87it/s]\n",
            "  0%|          | 0/469 [00:00<?, ?it/s]"
          ],
          "name": "stderr"
        },
        {
          "output_type": "stream",
          "text": [
            "\n",
            "train accuracy :  98.605 test accuracy :  98.48\n",
            "\n",
            "epoch no :  5\n"
          ],
          "name": "stdout"
        },
        {
          "output_type": "stream",
          "text": [
            "100%|██████████| 469/469 [00:11<00:00, 41.17it/s]\n",
            "  0%|          | 0/469 [00:00<?, ?it/s]"
          ],
          "name": "stderr"
        },
        {
          "output_type": "stream",
          "text": [
            "\n",
            "train accuracy :  98.825 test accuracy :  98.94\n",
            "\n",
            "epoch no :  6\n"
          ],
          "name": "stdout"
        },
        {
          "output_type": "stream",
          "text": [
            "100%|██████████| 469/469 [00:11<00:00, 42.14it/s]\n",
            "  0%|          | 0/469 [00:00<?, ?it/s]"
          ],
          "name": "stderr"
        },
        {
          "output_type": "stream",
          "text": [
            "\n",
            "train accuracy :  98.875 test accuracy :  98.78\n",
            "\n",
            "epoch no :  7\n"
          ],
          "name": "stdout"
        },
        {
          "output_type": "stream",
          "text": [
            "100%|██████████| 469/469 [00:11<00:00, 41.66it/s]\n",
            "  0%|          | 0/469 [00:00<?, ?it/s]"
          ],
          "name": "stderr"
        },
        {
          "output_type": "stream",
          "text": [
            "\n",
            "train accuracy :  99.02 test accuracy :  99.02\n",
            "\n",
            "epoch no :  8\n"
          ],
          "name": "stdout"
        },
        {
          "output_type": "stream",
          "text": [
            "100%|██████████| 469/469 [00:11<00:00, 41.48it/s]\n",
            "  0%|          | 0/469 [00:00<?, ?it/s]"
          ],
          "name": "stderr"
        },
        {
          "output_type": "stream",
          "text": [
            "\n",
            "train accuracy :  99.12666666666667 test accuracy :  99.07\n",
            "\n",
            "epoch no :  9\n"
          ],
          "name": "stdout"
        },
        {
          "output_type": "stream",
          "text": [
            "100%|██████████| 469/469 [00:11<00:00, 41.78it/s]\n",
            "  0%|          | 0/469 [00:00<?, ?it/s]"
          ],
          "name": "stderr"
        },
        {
          "output_type": "stream",
          "text": [
            "\n",
            "train accuracy :  99.065 test accuracy :  98.82\n",
            "\n",
            "epoch no :  10\n"
          ],
          "name": "stdout"
        },
        {
          "output_type": "stream",
          "text": [
            "100%|██████████| 469/469 [00:11<00:00, 41.12it/s]\n",
            "  0%|          | 0/469 [00:00<?, ?it/s]"
          ],
          "name": "stderr"
        },
        {
          "output_type": "stream",
          "text": [
            "\n",
            "train accuracy :  99.16833333333334 test accuracy :  98.85\n",
            "\n",
            "epoch no :  11\n"
          ],
          "name": "stdout"
        },
        {
          "output_type": "stream",
          "text": [
            "100%|██████████| 469/469 [00:11<00:00, 40.33it/s]\n",
            "  0%|          | 0/469 [00:00<?, ?it/s]"
          ],
          "name": "stderr"
        },
        {
          "output_type": "stream",
          "text": [
            "\n",
            "train accuracy :  99.245 test accuracy :  98.82\n",
            "\n",
            "epoch no :  12\n"
          ],
          "name": "stdout"
        },
        {
          "output_type": "stream",
          "text": [
            "100%|██████████| 469/469 [00:11<00:00, 39.59it/s]\n",
            "  0%|          | 0/469 [00:00<?, ?it/s]"
          ],
          "name": "stderr"
        },
        {
          "output_type": "stream",
          "text": [
            "\n",
            "train accuracy :  99.25333333333333 test accuracy :  99.22\n",
            "\n",
            "epoch no :  13\n"
          ],
          "name": "stdout"
        },
        {
          "output_type": "stream",
          "text": [
            "100%|██████████| 469/469 [00:11<00:00, 39.80it/s]\n",
            "  0%|          | 0/469 [00:00<?, ?it/s]"
          ],
          "name": "stderr"
        },
        {
          "output_type": "stream",
          "text": [
            "\n",
            "train accuracy :  99.245 test accuracy :  98.85\n",
            "\n",
            "epoch no :  14\n"
          ],
          "name": "stdout"
        },
        {
          "output_type": "stream",
          "text": [
            "100%|██████████| 469/469 [00:11<00:00, 40.56it/s]\n",
            "  0%|          | 0/469 [00:00<?, ?it/s]"
          ],
          "name": "stderr"
        },
        {
          "output_type": "stream",
          "text": [
            "\n",
            "train accuracy :  99.27 test accuracy :  99.08\n",
            "\n",
            "epoch no :  15\n"
          ],
          "name": "stdout"
        },
        {
          "output_type": "stream",
          "text": [
            "100%|██████████| 469/469 [00:11<00:00, 40.18it/s]\n",
            "  0%|          | 0/469 [00:00<?, ?it/s]"
          ],
          "name": "stderr"
        },
        {
          "output_type": "stream",
          "text": [
            "\n",
            "train accuracy :  99.35666666666667 test accuracy :  99.12\n",
            "\n",
            "epoch no :  16\n"
          ],
          "name": "stdout"
        },
        {
          "output_type": "stream",
          "text": [
            "100%|██████████| 469/469 [00:11<00:00, 40.89it/s]\n",
            "  0%|          | 0/469 [00:00<?, ?it/s]"
          ],
          "name": "stderr"
        },
        {
          "output_type": "stream",
          "text": [
            "\n",
            "train accuracy :  99.42 test accuracy :  99.04\n",
            "\n",
            "epoch no :  17\n"
          ],
          "name": "stdout"
        },
        {
          "output_type": "stream",
          "text": [
            "100%|██████████| 469/469 [00:11<00:00, 41.35it/s]\n",
            "  0%|          | 0/469 [00:00<?, ?it/s]"
          ],
          "name": "stderr"
        },
        {
          "output_type": "stream",
          "text": [
            "\n",
            "train accuracy :  99.39166666666667 test accuracy :  99.09\n",
            "\n",
            "epoch no :  18\n"
          ],
          "name": "stdout"
        },
        {
          "output_type": "stream",
          "text": [
            "100%|██████████| 469/469 [00:11<00:00, 41.32it/s]\n",
            "  0%|          | 0/469 [00:00<?, ?it/s]"
          ],
          "name": "stderr"
        },
        {
          "output_type": "stream",
          "text": [
            "\n",
            "train accuracy :  99.41333333333333 test accuracy :  99.16\n",
            "\n",
            "epoch no :  19\n"
          ],
          "name": "stdout"
        },
        {
          "output_type": "stream",
          "text": [
            "100%|██████████| 469/469 [00:11<00:00, 41.57it/s]\n"
          ],
          "name": "stderr"
        },
        {
          "output_type": "stream",
          "text": [
            "\n",
            "train accuracy :  99.46333333333334 test accuracy :  99.18\n"
          ],
          "name": "stdout"
        }
      ]
    },
    {
      "cell_type": "code",
      "metadata": {
        "colab": {
          "base_uri": "https://localhost:8080/"
        },
        "id": "So5uk4EkHW6R",
        "outputId": "b02ad5cc-52c8-4b2c-e638-44245443303d"
      },
      "source": [
        "for i in range(len(train_accuracy)):\n",
        "  print(\"epoch :\", i+1)\n",
        "  print(\"Train accuracy : \",train_accuracy[i])\n",
        "  print(\"Test accuracy : \", test_accuracy[i])\n",
        "  #print(test_accuracy[i])"
      ],
      "execution_count": 11,
      "outputs": [
        {
          "output_type": "stream",
          "text": [
            "epoch : 1\n",
            "Train accuracy :  91.48333333333333\n",
            "Test accuracy :  96.73\n",
            "epoch : 2\n",
            "Train accuracy :  97.88833333333334\n",
            "Test accuracy :  98.9\n",
            "epoch : 3\n",
            "Train accuracy :  98.3\n",
            "Test accuracy :  98.0\n",
            "epoch : 4\n",
            "Train accuracy :  98.605\n",
            "Test accuracy :  98.48\n",
            "epoch : 5\n",
            "Train accuracy :  98.825\n",
            "Test accuracy :  98.94\n",
            "epoch : 6\n",
            "Train accuracy :  98.875\n",
            "Test accuracy :  98.78\n",
            "epoch : 7\n",
            "Train accuracy :  99.02\n",
            "Test accuracy :  99.02\n",
            "epoch : 8\n",
            "Train accuracy :  99.12666666666667\n",
            "Test accuracy :  99.07\n",
            "epoch : 9\n",
            "Train accuracy :  99.065\n",
            "Test accuracy :  98.82\n",
            "epoch : 10\n",
            "Train accuracy :  99.16833333333334\n",
            "Test accuracy :  98.85\n",
            "epoch : 11\n",
            "Train accuracy :  99.245\n",
            "Test accuracy :  98.82\n",
            "epoch : 12\n",
            "Train accuracy :  99.25333333333333\n",
            "Test accuracy :  99.22\n",
            "epoch : 13\n",
            "Train accuracy :  99.245\n",
            "Test accuracy :  98.85\n",
            "epoch : 14\n",
            "Train accuracy :  99.27\n",
            "Test accuracy :  99.08\n",
            "epoch : 15\n",
            "Train accuracy :  99.35666666666667\n",
            "Test accuracy :  99.12\n",
            "epoch : 16\n",
            "Train accuracy :  99.42\n",
            "Test accuracy :  99.04\n",
            "epoch : 17\n",
            "Train accuracy :  99.39166666666667\n",
            "Test accuracy :  99.09\n",
            "epoch : 18\n",
            "Train accuracy :  99.41333333333333\n",
            "Test accuracy :  99.16\n",
            "epoch : 19\n",
            "Train accuracy :  99.46333333333334\n",
            "Test accuracy :  99.18\n"
          ],
          "name": "stdout"
        }
      ]
    },
    {
      "cell_type": "code",
      "metadata": {
        "colab": {
          "base_uri": "https://localhost:8080/"
        },
        "id": "fzD_cOLH6XWA",
        "outputId": "a96cdf1b-fc6a-432e-9ea4-28a7c6534964"
      },
      "source": [
        "for i in range(len(training_loss_epochs)):\n",
        "  print(\"epoch :\", i+1)\n",
        "  print(\"Train loss : \",training_loss_epochs[i])\n",
        "  print(\"Test loss : \", test_loss_epochs[i])"
      ],
      "execution_count": 12,
      "outputs": [
        {
          "output_type": "stream",
          "text": [
            "epoch : 1\n",
            "Train loss :  0.2645902716577053\n",
            "Test loss :  0.12298928228318691\n",
            "epoch : 2\n",
            "Train loss :  0.0722671169569095\n",
            "Test loss :  0.039590680712461475\n",
            "epoch : 3\n",
            "Train loss :  0.05768202292571465\n",
            "Test loss :  0.06442535272948444\n",
            "epoch : 4\n",
            "Train loss :  0.04492722473715743\n",
            "Test loss :  0.04664489735364914\n",
            "epoch : 5\n",
            "Train loss :  0.03957065636515617\n",
            "Test loss :  0.035922009901702405\n",
            "epoch : 6\n",
            "Train loss :  0.03670447835798065\n",
            "Test loss :  0.04460461353734135\n",
            "epoch : 7\n",
            "Train loss :  0.032858354331801336\n",
            "Test loss :  0.03557606543395668\n",
            "epoch : 8\n",
            "Train loss :  0.02969092214331031\n",
            "Test loss :  0.03116485624294728\n",
            "epoch : 9\n",
            "Train loss :  0.029413783768067758\n",
            "Test loss :  0.035054695848654956\n",
            "epoch : 10\n",
            "Train loss :  0.026642572351917623\n",
            "Test loss :  0.03902057918328792\n",
            "epoch : 11\n",
            "Train loss :  0.024846413385557632\n",
            "Test loss :  0.040281926487199964\n",
            "epoch : 12\n",
            "Train loss :  0.024584674481861295\n",
            "Test loss :  0.02888849023117218\n",
            "epoch : 13\n",
            "Train loss :  0.024736988625861704\n",
            "Test loss :  0.041633301421254876\n",
            "epoch : 14\n",
            "Train loss :  0.02341519013525297\n",
            "Test loss :  0.03803436061479151\n",
            "epoch : 15\n",
            "Train loss :  0.021226932637874656\n",
            "Test loss :  0.03180818843171\n",
            "epoch : 16\n",
            "Train loss :  0.019283362492049733\n",
            "Test loss :  0.033728206460084766\n",
            "epoch : 17\n",
            "Train loss :  0.019103860205442955\n",
            "Test loss :  0.03415142274424434\n",
            "epoch : 18\n",
            "Train loss :  0.01881379900310033\n",
            "Test loss :  0.027224469457240774\n",
            "epoch : 19\n",
            "Train loss :  0.016572522535159562\n",
            "Test loss :  0.029372528220515233\n"
          ],
          "name": "stdout"
        }
      ]
    },
    {
      "cell_type": "code",
      "metadata": {
        "colab": {
          "base_uri": "https://localhost:8080/",
          "height": 295
        },
        "id": "4JDiuzRv7U_y",
        "outputId": "adfc0837-d813-4321-e2f6-e810c3a7ae49"
      },
      "source": [
        "import matplotlib.pyplot as plt\n",
        "plt.plot(train_accuracy, label = \"train\")\n",
        "plt.plot(test_accuracy, label = \"test\")\n",
        "plt.xlabel('epochs')\n",
        "plt.ylabel('accuracy')\n",
        "plt.title('accuracy vs epochs')\n",
        "plt.legend()\n",
        "plt.show()"
      ],
      "execution_count": 13,
      "outputs": [
        {
          "output_type": "display_data",
          "data": {
            "image/png": "[encoded data removed]",
            "text/plain": [
              "<Figure size 432x288 with 1 Axes>"
            ]
          },
          "metadata": {
            "tags": [],
            "needs_background": "light"
          }
        }
      ]
    },
    {
      "cell_type": "code",
      "metadata": {
        "colab": {
          "base_uri": "https://localhost:8080/",
          "height": 295
        },
        "id": "0GdnnACD8D8U",
        "outputId": "8177861c-0f9a-4150-cf27-3d5dbbe636ab"
      },
      "source": [
        "plt.plot(training_loss_epochs, label = \"train\")\n",
        "plt.plot(test_loss_epochs, label = \"test\")\n",
        "plt.xlabel('epochs')\n",
        "plt.ylabel('loss')\n",
        "plt.title('loss vs epochs')\n",
        "plt.legend()\n",
        "plt.show()"
      ],
      "execution_count": 14,
      "outputs": [
        {
          "output_type": "display_data",
          "data": {
            "image/png": "[encoded data removed]",
            "text/plain": [
              "<Figure size 432x288 with 1 Axes>"
            ]
          },
          "metadata": {
            "tags": [],
            "needs_background": "light"
          }
        }
      ]
    }
  ]
}